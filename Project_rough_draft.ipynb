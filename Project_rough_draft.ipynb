{
  "nbformat": 4,
  "nbformat_minor": 0,
  "metadata": {
    "colab": {
      "name": "Project rough draft of Untitled30.ipynb",
      "provenance": [],
      "include_colab_link": true
    },
    "kernelspec": {
      "name": "python3",
      "display_name": "Python 3"
    },
    "language_info": {
      "name": "python"
    }
  },
  "cells": [
    {
      "cell_type": "markdown",
      "metadata": {
        "id": "view-in-github",
        "colab_type": "text"
      },
      "source": [
        "<a href=\"https://colab.research.google.com/github/James-rg/Game-Theory/blob/main/Project_rough_draft.ipynb\" target=\"_parent\"><img src=\"https://colab.research.google.com/assets/colab-badge.svg\" alt=\"Open In Colab\"/></a>"
      ]
    },
    {
      "cell_type": "markdown",
      "metadata": {
        "id": "i_4QVqdV96a6"
      },
      "source": [
        "# Game Theory\n",
        "\n",
        "\n",
        "\n"
      ]
    },
    {
      "cell_type": "markdown",
      "metadata": {
        "id": "woaZjkArTMAh"
      },
      "source": [
        "## What is Game Theory? \n",
        "\n",
        "It is a branch of mathmatics concerned with the analysis of decision-making and strategy. It is applied in economics,biology and behavioral science. Game theory is used to determine different strategy to compete with one another. Game theory is also used in everyday life to make decision like when to change lanes in traffic, when to cross the road or even when to do your assignment.\n",
        "\n",
        "Game theory gained widespread recognition in early $1940's$ when it was applied to the theoretical study of economics by mathematician John Von Newmann and the economist Oskar Morgenstern in their book theory of games and economic behaviors. since then its scopes broadened to co-operative interaction as well as in applied theoretical aspects of social sciences.\n",
        "\n",
        "the Nash equilibrium is a decision that does not deviate no matter what the other player chooses. It benefits person A no matter what person B does. Although it is not necessarily the optimal decision for both.\n",
        "\n",
        "On the other word, game theory can also be defined as the mathmatical study of decision-making, of conflict and strategy in social situations.\n",
        "\n",
        "\n",
        "\n",
        "What motivated us to work on this subject is that none of us really knew what game theory was! We didn't really know how to use it or what it's applications were. So our main driving force was the pursuit of knowledge!\n",
        "\n",
        "\n",
        "\n",
        "\n"
      ]
    },
    {
      "cell_type": "markdown",
      "metadata": {
        "id": "fjDPrsYOxBUV"
      },
      "source": [
        "\n",
        "##History of Game Theory\n",
        "\n",
        " In 1921, a French mathematician and politician Émile Borel (1871–1956) published several papers on the $Theory$ $Of$ $Games$. he was known as forgotten father of game theory and famous for his founding work in the areas of measure theory and probability. Aspects of game theory were first explored by the French mathematician Émile Borel (1871–1956), who wrote several papers on games of chance and theories of play.\n",
        "\n",
        " The acknowledged father of **Game Theory**, however, is the Hungarian-American mathematician John von Neumann, who in a series of papers in the 1920s and ’30s established the mathematical framework for all subsequent theoretical developments. During World War II he was a military strategists in such areas as logistics, submarine warfare, and air defense he drew on ideas that were directly related to game theory. Game theory thereafter developed within the context of the social sciences. Despite such empirically related interests, it is essentially a product of mathematicians. \n",
        "\n",
        "1. Cournot (1838): quantity setting duopoly\n",
        "2. Zermelo (1913): backward induction\n",
        "3. von Neumann (1928), Borel (1938), von Neumann and Morgenstern\n",
        "(1944): zero-sum games\n",
        "4. Flood and Dresher (1950): experiments\n",
        "5. Nash (1950): equilibrium\n",
        "6. Selten (1965): dynamic games\n",
        "7. Harsanyi (1967): incomplete information\n",
        "8. Akerlof (1970), Spence (1973): first applications\n",
        "9. 1980s boom, continuing nowadays: repeated games, bargaining,\n",
        "reputation, equilibrium refinements, industrial organization, contract\n",
        "theory, mechanism/market design\n",
        "10. 1990s: parallel development of behavioral economics\n",
        "11. more recently: applications to computer science, political science,\n",
        "psychology, evolutionary biology\n",
        "Mihai Manea (MIT) Game Theory"
      ]
    },
    {
      "cell_type": "markdown",
      "metadata": {
        "id": "DVKCnmI8UBTG"
      },
      "source": [
        "## Theory\n",
        "Our main focus of game theory has been the **Nash Equilibrium**. \n",
        "\n",
        "The **Nash Equilibrium** is a way of optimizing an outcome named after John Forbes Nash Jr. However it was first utilized by Antoine Augustin Cournot who was a French philosopher and mathematician. \n",
        "\n",
        "The **Nash Equilibrium** is a very unique way of observing decisions in a very absolute way.A pair of strategies is said to be **Nash Equilibrium** (NE), if the optimal choice of Player A given Player B’s choice coincides with optimal choice of Player B given Player A’s choice. In simple terms, initially neither player knows what the other player will do when deciding or making a choice. Hence NE is a pair of choices/strategies/expectations where neither player wants to change their behaviour even after the strategy/choice of the other player is revealed.\n",
        "\n",
        "\n",
        "As you can see the **Nash Equilibrium** is fairly straightforward. It is simple in a sense that each individual always tries to maximize their own outcome. However, in the real world it isn't always absolute or predictable. It is very hard to predict people!\n",
        "\n",
        "\n",
        " Another one of the main ideas we have looked at is dominant strategy. In **Dominant Strategy** there is one optimal strategy for each player irrespective of what strategy the other player adopts. Whatever choice B makes, A should always choose Bottom and whatever choice A makes B should always choose Left."
      ]
    },
    {
      "cell_type": "markdown",
      "metadata": {
        "id": "gZAnmh5LlmwX"
      },
      "source": [
        "**EXAMPLES**"
      ]
    },
    {
      "cell_type": "markdown",
      "metadata": {
        "id": "vzKj4KLc2nWm"
      },
      "source": [
        "# Example 1\n",
        "$$PRISONER$$ $$DILEMMA$$\n",
        "It is also called as interrogation room problem. \n",
        "This game was widely studied and used in social science.\n",
        "\n",
        "lets imagine, pato and babu were arrested and suspected to be in connection with a certain robbery. The prosecution has enough evdience to convict them for tresspasing but the prosecution beleived they carried out the robery. Now the DA comes in and puts them in seprate rooms where they cannot see each other or hear each other and starts the interrogation. DA wants to put them each behind bars for 8 months.\n",
        "\n",
        "The conditions for outcomes given by district attorney for pato and babu were:\n",
        "\n",
        "if either of  the two people confess they can charged with robery. if one confess's but the other doesn't the one who didn't will go to jail for 12 months and the person who confess's will go free .\n",
        "\n",
        "if both confess, both are going to jail for 8 month each.\n",
        "\n",
        "if they do not confess, both will be charged with trasspassing and get 1 month of jail time.\n",
        "\n",
        "---\n",
        "check out this table\n",
        "\n",
        "###Pato vs Babu\n",
        "\n",
        "\n",
        "|CONFESS    |   LIE    |\n",
        "|-----------|----------|\n",
        "| (-8,-8)   |  (0,-12) |\n",
        "| (-12,0)   |  (-1,-1) |\n",
        "\n",
        "----\n",
        "According to **NASH EQUILIBLIUM** which gives optimal outcome of a game, they both will confess and get 8 months each of jail time.\n",
        "\n",
        "But **DOMINANT STRAGTEGY** which explains the optimal move for any player regardless of how the other player acts, it then gives the outcome of someone going to jail for 12 months and rather then none. \n",
        "\n"
      ]
    },
    {
      "cell_type": "markdown",
      "metadata": {
        "id": "HVQ_W0Vv8SOY"
      },
      "source": [
        "lets try to do it in python\n"
      ]
    },
    {
      "cell_type": "markdown",
      "metadata": {
        "id": "18Cn3qjOlRk-"
      },
      "source": [
        "## Example 2"
      ]
    },
    {
      "cell_type": "markdown",
      "metadata": {
        "id": "xwx5JA688Gqu"
      },
      "source": [
        "\n",
        "\n",
        "Assume you are trying to buy a car. The best outcome for you is to get the car as cheap as possible let’s say at cost to the company. The best outcome for the Dealer is going to be to get you to pay above sticker price for the car. \n",
        "\n",
        "Let’s say the salesman tries to get you to pay 40,000 for a car that cost the dealership 30,000 to get on the lot and sell. Ideally you would want to know exactly how much they paid for it so you could get it for that price. But in the real world the salesman won’t tell you how much he needs out of the car. However, you also have power in this situation because the dealer doesn’t know how much you are willing to pay for the car. \n",
        "\n",
        "Ideally you would meet exactly in the middle so each party leaves happy. That is not how buying a car works though. There is always a winner and a loser and the dealership wins the majority of the time. The dealership has the most power because they get the last say in what price the car is sold for.However, in reality you will never buy a vehicle for what the dealer buys it for."
      ]
    },
    {
      "cell_type": "markdown",
      "metadata": {
        "id": "asiees-slJlF"
      },
      "source": [
        "##EXAMPLE 3"
      ]
    },
    {
      "cell_type": "markdown",
      "metadata": {
        "id": "sG7mWcYnkdWq"
      },
      "source": [
        "Let's Consider the following bargaining problem: 20 dollars needs to be split between Jack and Mac. Mac gets to make an initial offer.\n",
        "\n",
        "Jack then gets to respond by either accepting Mac's initial offer or offering a counter offer. Finally, Mac can respond by either accepting Jacks offer or making a final offer.\n",
        "\n",
        "If Jack does not accept Mac's final offer both Jack and Mac get nothing. Jack discounts the future at 10% (i.e. future earnings are with 10% less than current earnings while Mac discounts the future at 20%. Calculate the Nash equilibrium of this bargaining problem.\n",
        "\n",
        "The key to each of these games is as follows: At any stage, the offer made needs to be acceptable to both parties.\n",
        "\n",
        "We need to work backwards: \n",
        "\n",
        "Stage 3: Note that if Jack rejects Mac's offer at this stage, the money disappears. Therefore, Jack will accept anything positive. Mac offers: 20 dollar to herself, 0 dollar to Jack.\n",
        "\n",
        "Stage 2: Now, Jack must make an offer that Mac will accept (if the game gets to stage three, Jack gets nothing).Mac is indifferent between 20 dollars in one year and 16 dollars today (she discounts the future at 20%). Jack offers: 16 dollars to Mac, 4 dollars to Himself\n",
        "\n",
        "Stage 1: Now, Mac must make an offer that Jack will accept (and is preferable to her – if this is not possible, then she will make an offer jack rejects and the game goes to stage 2).\n",
        "\n",
        "Jack is indifferent between 4 dollars in one year and 3.6 dollars today (he discounts the future at 10%). Note that 16.40 is preferred by Mac to  16 in one year. Mac offer 16.40 to herself, 3.60 to Jack."
      ]
    },
    {
      "cell_type": "markdown",
      "metadata": {
        "id": "Z6ZUpy7pxXy_"
      },
      "source": [
        "##References\n",
        " Game Theory concepts with application in Python using Nashpy Krishnan, Mythili. “Game Theory Concepts with Application in Python Using Nashpy (Part 1).” Medium, 16 Nov. 2020, towardsdatascience.com/game-theory-in-python-with-nashpy-cb5dceab262c.\n",
        " Nash Equilibrium “Nash Equilibrium.” Investopedia, 3 Mar. 2021, www.investopedia.com/terms/n/nash-equilibrium.asp.\n",
        " \"Game Theory.” Funk & Wagnalls New World Encyclopedia, Jan. 2018, p. 1; EBSCOhost, 0-search-ebscohost-com.library.ecok.edu/login.aspx?direct=true&db=funk&AN=ga010500&site=eds-live&scope=site.\n",
        " multi energy conversion based on game theory He, Jianjia, et al. “Multi-Energy Conversion Based on Game Theory in the Industrial Interconnection.” PloS One, vol. 16, no. 1, Jan. 2021, p. e0245622. EBSCOhost, doi:10.1371/journal.pone.0245622.\n",
        " Krishnan, Mythili. “Game Theory Concepts with Application in Python Using Nashpy (Part 1).” Medium, 16 Nov. 2020, towardsdatascience.com/game-theory-in-python-with-nashpy-cb5dceab262c.\n"
      ]
    },
    {
      "cell_type": "markdown",
      "metadata": {
        "id": "aFM8E4VSZA_p"
      },
      "source": [
        "##Problems in Python \n",
        "We will compute Nash equilibria for a simple two player rock-paper-scissor game!\n",
        "\n",
        "i. First, we need to creat a payoff matrix for each player. We will start with the first player.         \n",
        "ii. The payoff matrix for the second players is the transpose of p2.      \n",
        "iii. We create the game object to represent the game.     \n",
        "iv. We compute the Nash equilibria for the game using the support enumeration algorithm.    \n",
        "v. We iterate over the equilibria and print the profile for each player."
      ]
    },
    {
      "cell_type": "code",
      "metadata": {
        "id": "mbMCC1ZMZAHk",
        "colab": {
          "base_uri": "https://localhost:8080/"
        },
        "outputId": "aa59d83a-7db5-4cd5-8840-d6e677ddfb86"
      },
      "source": [
        "!apt-get -qq install -y graphviz && pip install nashpy\n",
        "import numpy as np\n",
        "import nashpy as nash\n",
        "p1 = np.array([\n",
        "    [0, -1, 1],   #rock payoff\n",
        "    [1, 0, -1],   #paper payoff\n",
        "    [-1, 1, 0]    #scissors payoff      \n",
        "])\n",
        "p2 = p1.transpose()\n",
        "rock_paper_scissors = nash.Game(p1, p2)\n",
        "equilibria = rock_paper_scissors.support_enumeration()\n",
        "for p1, p2 in equilibria:\n",
        "  print(\"Player 1\", p1)\n",
        "  print(\"Player 2\", p2)"
      ],
      "execution_count": null,
      "outputs": [
        {
          "output_type": "stream",
          "name": "stdout",
          "text": [
            "Requirement already satisfied: nashpy in /usr/local/lib/python3.7/dist-packages (0.0.21)\n",
            "Requirement already satisfied: numpy>=1.12.1 in /usr/local/lib/python3.7/dist-packages (from nashpy) (1.19.5)\n",
            "Requirement already satisfied: scipy>=0.19.0 in /usr/local/lib/python3.7/dist-packages (from nashpy) (1.4.1)\n",
            "Player 1 [0.33333333 0.33333333 0.33333333]\n",
            "Player 2 [0.33333333 0.33333333 0.33333333]\n"
          ]
        }
      ]
    },
    {
      "cell_type": "markdown",
      "metadata": {
        "id": "pz5xCYtbZCGZ"
      },
      "source": [
        "## Project Idea"
      ]
    },
    {
      "cell_type": "markdown",
      "metadata": {
        "id": "LrBCw5_-ZJFK"
      },
      "source": [
        "A fun way to demonstrate **Game Theory** would be to have students group off into pairs of two. Give each group 5 marbles,2 scraps of paper and explain the rules as follows. If both contestants choose to share then they each get 2 marbles and the remaining marble is lost to the game master. If contestant 1 chooses to share but contestant 2 chooses to steal then contestant 2 gets all 5 marbles. If both contestants choose to steal then 3 marbles go to the game master and each contestant gets a single marble. Give the players a timer for how long they can talk and how long they have to make a decision. Or you could simply take away the ability to talk all together and only give them time to make a decision. Have them write their decision on the scrap paper. You could play this for a few rounds and award either bonus points or candy based on how many marbles each player gained in total!"
      ]
    },
    {
      "cell_type": "markdown",
      "metadata": {
        "id": "C8i0wsUKijeP"
      },
      "source": [
        "### Authors"
      ]
    },
    {
      "cell_type": "markdown",
      "metadata": {
        "id": "rajid0PdipzE"
      },
      "source": [
        "Principal authors of this chapter were:\n",
        "\n",
        "[Ashok S. Poudel](https://github.com/ashpou1)\n",
        "\n",
        "[Bidhan Subedi](https://github.com/bidhan7)\n",
        "\n",
        "[James Norman](https://github.com/James-rg)"
      ]
    }
  ]
}