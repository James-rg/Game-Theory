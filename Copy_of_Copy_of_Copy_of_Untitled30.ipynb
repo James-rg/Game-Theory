{
  "nbformat": 4,
  "nbformat_minor": 0,
  "metadata": {
    "colab": {
      "name": "Copy of Copy of Copy of Untitled30.ipynb",
      "provenance": [],
      "include_colab_link": true
    },
    "kernelspec": {
      "name": "python3",
      "display_name": "Python 3"
    },
    "language_info": {
      "name": "python"
    }
  },
  "cells": [
    {
      "cell_type": "markdown",
      "metadata": {
        "id": "view-in-github",
        "colab_type": "text"
      },
      "source": [
        "<a href=\"https://colab.research.google.com/github/James-rg/Game-Theory/blob/main/Copy_of_Copy_of_Copy_of_Untitled30.ipynb\" target=\"_parent\"><img src=\"https://colab.research.google.com/assets/colab-badge.svg\" alt=\"Open In Colab\"/></a>"
      ]
    },
    {
      "cell_type": "markdown",
      "metadata": {
        "id": "i_4QVqdV96a6"
      },
      "source": [
        "# Game Theory\n",
        "\n",
        "\n",
        "\n"
      ]
    },
    {
      "cell_type": "markdown",
      "metadata": {
        "id": "woaZjkArTMAh"
      },
      "source": [
        "## What is Game Theory? \n",
        "\n",
        "It is a branch of mathmatics concerned with the analysis of decision-making and strategy. It is applied in economics,biology and behavioral science. Game theory is used to determine different strategy to compete with one another. Game theory is also used in everyday life to make decision like when to change lanes in traffic, when to cross the road or even when to do your assignment.\n",
        "\n",
        "Game theory gained widespread recognition in early $1940's$ when it was applied to the theoretical study of economics by mathematician John Von Newmann and the economist Oskar Morgenstern in their book theory of games and economic behaviors. since then its scopes broadened to co-operative interaction as well as in applied theoretical aspects of social sciences.\n",
        "\n",
        "the Nash equilibrium is a decision that does not deviate no matter what the other player chooses. It benefits person A no matter what person B does. Although it is not necessarily the optimal decision for both.\n",
        "\n",
        "On the other word, game theory can also be defined as the mathmatical study of decision-making, of conflict and strategy in social situations.\n",
        "\n",
        "\n",
        "\n",
        "What motivated us to work on this subject is that none of us really knew what game theory was! We didn't really know how to use it or what it's applications were. So our main driving force was the pursuit of knowledge!\n",
        "\n",
        "\n",
        "\n",
        "\n"
      ]
    },
    {
      "cell_type": "markdown",
      "metadata": {
        "id": "n0AD_VXnYiKq"
      },
      "source": [
        "\n"
      ]
    },
    {
      "cell_type": "code",
      "metadata": {
        "id": "TB0fjv40z-HK"
      },
      "source": [
        ""
      ],
      "execution_count": null,
      "outputs": []
    },
    {
      "cell_type": "markdown",
      "metadata": {
        "id": "fjDPrsYOxBUV"
      },
      "source": [
        "\n",
        "##History of Game Theory\n",
        "1. Cournot (1838): quantity setting duopoly\n",
        "2. Zermelo (1913): backward induction\n",
        "3. von Neumann (1928), Borel (1938), von Neumann and Morgenstern\n",
        "(1944): zero-sum games\n",
        "4. Flood and Dresher (1950): experiments\n",
        "5. Nash (1950): equilibrium\n",
        "6. Selten (1965): dynamic games\n",
        "7. Harsanyi (1967): incomplete information\n",
        "8. Akerlof (1970), Spence (1973): first applications\n",
        "9. 1980s boom, continuing nowadays: repeated games, bargaining,\n",
        "reputation, equilibrium refinements, industrial organization, contract\n",
        "theory, mechanism/market design\n",
        "10. 1990s: parallel development of behavioral economics\n",
        "11. more recently: applications to computer science, political science,\n",
        "psychology, evolutionary biology\n",
        "Mihai Manea (MIT) Game Theory"
      ]
    },
    {
      "cell_type": "markdown",
      "metadata": {
        "id": "DVKCnmI8UBTG"
      },
      "source": [
        "## Theory\n",
        "Our main focus of game theory has been the Nash Equilibrium. A pair of strategies is said to be Nash equilibrium (NE), if optimal choice of Player A given Player B’s choice coincides with optimal choice of Player B given Player A’s choice. In simple terms, initially neither player knows what the other player will do when deciding or making a choice. Hence NE is a pair of choices/strategies/expectations where neither player wants to change their behaviour even after the strategy/choice of the other player is revealed.\n",
        " Another one of the main ideas we have looked at is dominant strategy. In dominant strategy there is one optimal strategy for each player irrespective of what strategy the other player adopts. Whatever choice B makes, A should always choose Bottom and whatever choice A makes B should always choose Left."
      ]
    },
    {
      "cell_type": "markdown",
      "metadata": {
        "id": "5GgWvxZMYjTU"
      },
      "source": [
        "Use **bold** for terms that you are defining.\n",
        "\n"
      ]
    },
    {
      "cell_type": "markdown",
      "metadata": {
        "id": "gZAnmh5LlmwX"
      },
      "source": [
        "## Examples"
      ]
    },
    {
      "cell_type": "markdown",
      "metadata": {
        "id": "VXEn-1oj8CG_"
      },
      "source": [
        "\n"
      ]
    },
    {
      "cell_type": "markdown",
      "metadata": {
        "id": "vzKj4KLc2nWm"
      },
      "source": [
        "# Example 1\n",
        "$$PRISONER$$ $$DILEMMA$$\n",
        "\n",
        "interrogation room:\n",
        "\n",
        "lets imagine, a cop got two people in police station. police think they stole some products from some business but cops dont have any proof for stealing somthing so cops can charge just tresspassing charges for them.\n",
        "\n",
        "imagine a conditions for outcomes:\n",
        "\n",
        "---\n",
        "if any one of two people will confess they can charged with robery. if one confess other wont, other one going to jail for 12 months and person who confess will go free for good.\n",
        "\n",
        "---\n",
        "if both confess, both are going to jail for six month each for good. \n",
        "\n",
        "---\n",
        "if they do not confess, both will be charged with trasspassing and get 1 month of jail time for good. \n",
        "\n",
        "---\n",
        "check out this table\n",
        "\n",
        "###Person1 vs Person2\n",
        "\n",
        "\n",
        "|CONFESS    |   LIE    |\n",
        "|-----------|----------|\n",
        "| (-8,-8)   |  (0,-12) |\n",
        "| (-12,0)   |  (-1,-1) |\n",
        "\n",
        "----\n",
        "According to $NASH$ $EQUILIBLIUM$ which gives optimal outcome of a game, they both going to confess and get 8 month each of jail time for good.\n",
        "\n",
        "But $DOMINANT$ $STRAGTEGY$ which expalins the optimal move for any player regardless how other player acts, gives the outcome of someone going to jail for 12 month and other none. \n",
        "\n"
      ]
    },
    {
      "cell_type": "markdown",
      "metadata": {
        "id": "hbqQ17BOlqGN"
      },
      "source": [
        "\n",
        "\n"
      ]
    },
    {
      "cell_type": "markdown",
      "metadata": {
        "id": "xwx5JA688Gqu"
      },
      "source": [
        "### Example 2\n",
        "\n",
        "Assume you are trying to buy a car. The best outcome for you is to get the car as cheap as possible let’s say at cost to the company. The best outcome for the Dealer is going to be to get you to pay above sticker price for the car. Let’s say the salesman tries to get you to pay 40,000 for a car that cost the dealership 30,000 to get on the lot and sell. Ideally you would want to know exactly how much they paid for it so you could get it for that price. But in the real world the salesman won’t tell you how much he needs out of the car. However, you also have power in this situation because the dealer doesn’t know how much you are willing to pay for the car. Ideally you would meet exactly in the middle so each party leaves happy. That is not how buying a car works though. There is always a winner and a loser and the dealership wins the majority of the time. The dealership has the most power because they get the last say in what price the car is sold for. In reality you will never get a car for what the dealerAssume you are trying to buy a car. The best outcome for you is to get the car as cheap as possible let’s say at cost to the company. The best outcome for the Dealer is going to be to get you to pay above sticker price for the car. Let’s say the salesman tries to get you to pay $40,000 for a car that cost the dealership 30,000 to get on the lot and sell. Ideally you would want to know exactly how much they paid for it so you could get it for that price. But in the real world the salesman won’t tell you how much he needs out of the car. However, you also have power in this situation because the dealer doesn’t know how much you are willing to pay for the car. Ideally you would meet exactly in the middle so each party leaves happy. That is not how buying a car works though. There is always a winner and a loser and the dealership wins the majority of the time. The dealership has the most power because they get the last say in what price the car is sold for. In reality you will never get a car for what the dealer buys it for."
      ]
    },
    {
      "cell_type": "markdown",
      "metadata": {
        "id": "UCeUiE8j8Ngm"
      },
      "source": [
        ""
      ]
    },
    {
      "cell_type": "markdown",
      "metadata": {
        "id": "fb2uZl1q_LR_"
      },
      "source": [
        "\n"
      ]
    },
    {
      "cell_type": "markdown",
      "metadata": {
        "id": "Z6ZUpy7pxXy_"
      },
      "source": [
        "##References\n",
        "1. Game Theory concepts with application in Python using Nashpy Krishnan, Mythili. “Game Theory Concepts with Application in Python Using Nashpy (Part 1).” Medium, 16 Nov. 2020, towardsdatascience.com/game-theory-in-python-with-nashpy-cb5dceab262c.\n",
        "2. Nash Equilibrium “Nash Equilibrium.” Investopedia, 3 Mar. 2021, www.investopedia.com/terms/n/nash-equilibrium.asp.\n",
        "3. \"Game Theory.” Funk & Wagnalls New World Encyclopedia, Jan. 2018, p. 1; EBSCOhost, 0-search-ebscohost-com.library.ecok.edu/login.aspx?direct=true&db=funk&AN=ga010500&site=eds-live&scope=site.\n",
        "4. multi energy conversion based on game theory He, Jianjia, et al. “Multi-Energy Conversion Based on Game Theory in the Industrial Interconnection.” PloS One, vol. 16, no. 1, Jan. 2021, p. e0245622. EBSCOhost, doi:10.1371/journal.pone.0245622.\n",
        "5. Krishnan, Mythili. “Game Theory Concepts with Application in Python Using Nashpy (Part 1).” Medium, 16 Nov. 2020, towardsdatascience.com/game-theory-in-python-with-nashpy-cb5dceab262c.\n",
        "\n",
        "*How to Solve It* **G. Polya** Second Edition Princeton University Press 1957\n",
        "\n",
        "*Thinking Mathematically* **J. Mason** Addison-Wesley Publishing Company 1985\n",
        "\n",
        "*Grit: The Power of Passion and Perseverance* **A. Duckworth** ‎ Scribner Book Company 2016"
      ]
    },
    {
      "cell_type": "markdown",
      "metadata": {
        "id": "DGC5WaH4Y98C"
      },
      "source": [
        ""
      ]
    },
    {
      "cell_type": "markdown",
      "metadata": {
        "id": "aFM8E4VSZA_p"
      },
      "source": [
        "##Problems in Python "
      ]
    },
    {
      "cell_type": "code",
      "metadata": {
        "id": "mbMCC1ZMZAHk"
      },
      "source": [
        ""
      ],
      "execution_count": null,
      "outputs": []
    },
    {
      "cell_type": "markdown",
      "metadata": {
        "id": "pz5xCYtbZCGZ"
      },
      "source": [
        "## Project Idea"
      ]
    },
    {
      "cell_type": "markdown",
      "metadata": {
        "id": "LrBCw5_-ZJFK"
      },
      "source": [
        "Two friends go to a bar. They are there for a couple hours and before you know it they are down to their last few bucks. They scrape together what they have left and find collectively they have 10 dollars. Just enough for another mojito or sea breeze. Their favorite drinks respectively. But their second favorite draft beers are on sale for $5 each. Lastly they can get a glass of tap water for free. \n",
        "\n",
        "If they both choose to get their favorite drink the bartender will get angry take their $10 and give both patrons a glass of tap water. If one chooses the drink and the other chooses beer the bartender will serve the man his mixed drink and give the other a tap water to maximize his profits. If they both choose beer then they both get beer. Neither of the two men will choose water because they are at a bar to get turnt.\n",
        "\n",
        "Ideally both men would choose beer so they can both get something they want. However, applying the Nash Equilibrium both men will end up with water because they will both choose the best option for themselves."
      ]
    },
    {
      "cell_type": "markdown",
      "metadata": {
        "id": "C8i0wsUKijeP"
      },
      "source": [
        "### Authors"
      ]
    },
    {
      "cell_type": "markdown",
      "metadata": {
        "id": "rajid0PdipzE"
      },
      "source": [
        "Principal authors of this chapter were:\n",
        "\n",
        "[Ashok S. Poudel](https://github.com/ashpou1)\n",
        "\n",
        "[Bidhan Subedi](https://github.com/bidhan7)\n",
        "\n",
        "[James Norman](https://github.com/James-rg)"
      ]
    },
    {
      "cell_type": "code",
      "metadata": {
        "id": "7gUn1NirlAep"
      },
      "source": [
        ""
      ],
      "execution_count": null,
      "outputs": []
    }
  ]
}